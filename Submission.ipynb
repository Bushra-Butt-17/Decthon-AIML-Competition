{
  "nbformat": 4,
  "nbformat_minor": 0,
  "metadata": {
    "colab": {
      "provenance": [],
      "gpuType": "T4"
    },
    "kernelspec": {
      "name": "python3",
      "display_name": "Python 3"
    },
    "language_info": {
      "name": "python"
    },
    "accelerator": "GPU"
  },
  "cells": [
    {
      "cell_type": "code",
      "source": [
        "import pandas as pd\n",
        "from sklearn.model_selection import train_test_split\n",
        "from sklearn.ensemble import RandomForestClassifier\n",
        "from sklearn.preprocessing import StandardScaler, OneHotEncoder\n",
        "from sklearn.compose import ColumnTransformer\n",
        "from sklearn.pipeline import Pipeline\n",
        "from sklearn.metrics import classification_report\n",
        "import pickle\n"
      ],
      "metadata": {
        "id": "S7AhG57b-Qtq"
      },
      "execution_count": 23,
      "outputs": []
    },
    {
      "cell_type": "code",
      "source": [
        "# Load the training and test datasets\n",
        "train_data = pd.read_csv('/content/train.csv')\n",
        "test_data = pd.read_csv('/content/train.csv')\n",
        "\n",
        "# Check the first few rows to understand the structure\n",
        "print(train_data.head())\n",
        "\n",
        "print(test_data.head())\n",
        "\n"
      ],
      "metadata": {
        "colab": {
          "base_uri": "https://localhost:8080/"
        },
        "id": "X5iTICjk-S3i",
        "outputId": "06641f8e-018a-4122-ab87-b27b05d3ad9e"
      },
      "execution_count": 24,
      "outputs": [
        {
          "output_type": "stream",
          "name": "stdout",
          "text": [
            "   User_Key  Birth_Year   Edu_Level Family_Status  Annual_Income  Kids_Count  \\\n",
            "0      2607        1953  Graduation        Single        40464.0           0   \n",
            "1      7247        1960  Graduation         Widow        47916.0           0   \n",
            "2      5802        1972       Basic       Married        14188.0           0   \n",
            "3      2147        1969  Graduation      Together        76653.0           0   \n",
            "4      3759        1958  Graduation      Together        65196.0           0   \n",
            "\n",
            "   Teens_Count    Reg_Date  Last_Visit  Spent_Wines  ...  Web_Visits  \\\n",
            "0            1  11-01-2013          78          424  ...           8   \n",
            "1            1  22-11-2012          72          505  ...           6   \n",
            "2            0  28-02-2013          40            2  ...           6   \n",
            "3            0  16-08-2013          91          736  ...           2   \n",
            "4            2  25-07-2013          34          743  ...           5   \n",
            "\n",
            "   Campaign_1  Campaign_2  Campaign_3  Campaign_4  Campaign_5  Complaint_Flag  \\\n",
            "0           0           0           0           0           0               0   \n",
            "1           0           1           0           0           0               0   \n",
            "2           0           0           0           0           0               0   \n",
            "3           0           0           1           1           0               0   \n",
            "4           1           0           0           0           0               0   \n",
            "\n",
            "   Contact_Cost  Total_Revenue  Next_Purchase  \n",
            "0             3             11              0  \n",
            "1             3             11              0  \n",
            "2             3             11              0  \n",
            "3             3             11              0  \n",
            "4             3             11              0  \n",
            "\n",
            "[5 rows x 29 columns]\n",
            "   User_Key  Birth_Year   Edu_Level Family_Status  Annual_Income  Kids_Count  \\\n",
            "0      2607        1953  Graduation        Single        40464.0           0   \n",
            "1      7247        1960  Graduation         Widow        47916.0           0   \n",
            "2      5802        1972       Basic       Married        14188.0           0   \n",
            "3      2147        1969  Graduation      Together        76653.0           0   \n",
            "4      3759        1958  Graduation      Together        65196.0           0   \n",
            "\n",
            "   Teens_Count    Reg_Date  Last_Visit  Spent_Wines  ...  Web_Visits  \\\n",
            "0            1  11-01-2013          78          424  ...           8   \n",
            "1            1  22-11-2012          72          505  ...           6   \n",
            "2            0  28-02-2013          40            2  ...           6   \n",
            "3            0  16-08-2013          91          736  ...           2   \n",
            "4            2  25-07-2013          34          743  ...           5   \n",
            "\n",
            "   Campaign_1  Campaign_2  Campaign_3  Campaign_4  Campaign_5  Complaint_Flag  \\\n",
            "0           0           0           0           0           0               0   \n",
            "1           0           1           0           0           0               0   \n",
            "2           0           0           0           0           0               0   \n",
            "3           0           0           1           1           0               0   \n",
            "4           1           0           0           0           0               0   \n",
            "\n",
            "   Contact_Cost  Total_Revenue  Next_Purchase  \n",
            "0             3             11              0  \n",
            "1             3             11              0  \n",
            "2             3             11              0  \n",
            "3             3             11              0  \n",
            "4             3             11              0  \n",
            "\n",
            "[5 rows x 29 columns]\n"
          ]
        }
      ]
    },
    {
      "cell_type": "code",
      "source": [
        "print(train_data.columns)\n"
      ],
      "metadata": {
        "colab": {
          "base_uri": "https://localhost:8080/"
        },
        "id": "2V9Gtr4l_Nyf",
        "outputId": "3babbf42-440c-44fc-f7b5-dad2e1488604"
      },
      "execution_count": 26,
      "outputs": [
        {
          "output_type": "stream",
          "name": "stdout",
          "text": [
            "Index(['User_Key', 'Birth_Year', 'Edu_Level', 'Family_Status', 'Annual_Income',\n",
            "       'Kids_Count', 'Teens_Count', 'Reg_Date', 'Last_Visit', 'Spent_Wines',\n",
            "       'Spent_Fruits', 'Spent_Meat', 'Spent_Fish', 'Spent_Sweets',\n",
            "       'Spent_Gold', 'Promo_Purchases', 'Web_Orders', 'Catalog_Orders',\n",
            "       'Store_Orders', 'Web_Visits', 'Campaign_1', 'Campaign_2', 'Campaign_3',\n",
            "       'Campaign_4', 'Campaign_5', 'Complaint_Flag', 'Contact_Cost',\n",
            "       'Total_Revenue', 'Next_Purchase'],\n",
            "      dtype='object')\n"
          ]
        }
      ]
    },
    {
      "cell_type": "code",
      "source": [
        "if 'Next_Purchase' not in train_data.columns:\n",
        "    print(\"Next_Purchase column is missing!\")\n"
      ],
      "metadata": {
        "id": "IfBQg1BmAUkB"
      },
      "execution_count": 25,
      "outputs": []
    },
    {
      "cell_type": "code",
      "source": [
        "X_train = train_data.drop(columns=['Next_Purchase', 'User_Key'])\n",
        "y_train = train_data['Next_Purchase']\n"
      ],
      "metadata": {
        "id": "jUxRJG4gAw9w"
      },
      "execution_count": 27,
      "outputs": []
    },
    {
      "cell_type": "code",
      "source": [
        "print(train_data.isnull().sum())  # Check how many missing values exist\n"
      ],
      "metadata": {
        "colab": {
          "base_uri": "https://localhost:8080/"
        },
        "id": "eYN7gTxYA0MA",
        "outputId": "52efaa69-0f83-43d0-9bbb-b11fdd867075"
      },
      "execution_count": 28,
      "outputs": [
        {
          "output_type": "stream",
          "name": "stdout",
          "text": [
            "User_Key            0\n",
            "Birth_Year          0\n",
            "Edu_Level           0\n",
            "Family_Status       0\n",
            "Annual_Income      23\n",
            "Kids_Count          0\n",
            "Teens_Count         0\n",
            "Reg_Date            0\n",
            "Last_Visit          0\n",
            "Spent_Wines         0\n",
            "Spent_Fruits        0\n",
            "Spent_Meat          0\n",
            "Spent_Fish          0\n",
            "Spent_Sweets        0\n",
            "Spent_Gold          0\n",
            "Promo_Purchases     0\n",
            "Web_Orders          0\n",
            "Catalog_Orders      0\n",
            "Store_Orders        0\n",
            "Web_Visits          0\n",
            "Campaign_1          0\n",
            "Campaign_2          0\n",
            "Campaign_3          0\n",
            "Campaign_4          0\n",
            "Campaign_5          0\n",
            "Complaint_Flag      0\n",
            "Contact_Cost        0\n",
            "Total_Revenue       0\n",
            "Next_Purchase       0\n",
            "dtype: int64\n"
          ]
        }
      ]
    },
    {
      "cell_type": "code",
      "source": [
        "# Fill missing values in 'Annual_Income' column with the mean value\n",
        "train_data['Annual_Income'].fillna(train_data['Annual_Income'].mean(), inplace=True)\n",
        "\n",
        "# Verify the missing values are handled\n",
        "print(train_data.isnull().sum())\n"
      ],
      "metadata": {
        "colab": {
          "base_uri": "https://localhost:8080/"
        },
        "id": "tH3-MX_pBDUO",
        "outputId": "29379812-e0c4-4503-8b75-9cda42bc0c28"
      },
      "execution_count": 30,
      "outputs": [
        {
          "output_type": "stream",
          "name": "stdout",
          "text": [
            "User_Key           0\n",
            "Birth_Year         0\n",
            "Edu_Level          0\n",
            "Family_Status      0\n",
            "Annual_Income      0\n",
            "Kids_Count         0\n",
            "Teens_Count        0\n",
            "Reg_Date           0\n",
            "Last_Visit         0\n",
            "Spent_Wines        0\n",
            "Spent_Fruits       0\n",
            "Spent_Meat         0\n",
            "Spent_Fish         0\n",
            "Spent_Sweets       0\n",
            "Spent_Gold         0\n",
            "Promo_Purchases    0\n",
            "Web_Orders         0\n",
            "Catalog_Orders     0\n",
            "Store_Orders       0\n",
            "Web_Visits         0\n",
            "Campaign_1         0\n",
            "Campaign_2         0\n",
            "Campaign_3         0\n",
            "Campaign_4         0\n",
            "Campaign_5         0\n",
            "Complaint_Flag     0\n",
            "Contact_Cost       0\n",
            "Total_Revenue      0\n",
            "Next_Purchase      0\n",
            "dtype: int64\n"
          ]
        },
        {
          "output_type": "stream",
          "name": "stderr",
          "text": [
            "<ipython-input-30-b3986c18cee4>:2: FutureWarning: A value is trying to be set on a copy of a DataFrame or Series through chained assignment using an inplace method.\n",
            "The behavior will change in pandas 3.0. This inplace method will never work because the intermediate object on which we are setting values always behaves as a copy.\n",
            "\n",
            "For example, when doing 'df[col].method(value, inplace=True)', try using 'df.method({col: value}, inplace=True)' or df[col] = df[col].method(value) instead, to perform the operation inplace on the original object.\n",
            "\n",
            "\n",
            "  train_data['Annual_Income'].fillna(train_data['Annual_Income'].mean(), inplace=True)\n"
          ]
        }
      ]
    },
    {
      "cell_type": "code",
      "source": [
        "# One-hot encode categorical columns\n",
        "train_data_encoded = pd.get_dummies(train_data, columns=['Edu_Level', 'Family_Status', 'Reg_Date'], drop_first=True)\n",
        "\n",
        "# Check the encoded dataset\n",
        "print(train_data_encoded.head())\n"
      ],
      "metadata": {
        "colab": {
          "base_uri": "https://localhost:8080/"
        },
        "id": "p2D7NfndBI1_",
        "outputId": "117990a1-588d-4c03-dd56-91f5b576e0b8"
      },
      "execution_count": 31,
      "outputs": [
        {
          "output_type": "stream",
          "name": "stdout",
          "text": [
            "   User_Key  Birth_Year  Annual_Income  Kids_Count  Teens_Count  Last_Visit  \\\n",
            "0      2607        1953        40464.0           0            1          78   \n",
            "1      7247        1960        47916.0           0            1          72   \n",
            "2      5802        1972        14188.0           0            0          40   \n",
            "3      2147        1969        76653.0           0            0          91   \n",
            "4      3759        1958        65196.0           0            2          34   \n",
            "\n",
            "   Spent_Wines  Spent_Fruits  Spent_Meat  Spent_Fish  ...  \\\n",
            "0          424            17         118           7  ...   \n",
            "1          505             0          26           0  ...   \n",
            "2            2             7          11          16  ...   \n",
            "3          736            63         946         219  ...   \n",
            "4          743            19         181          12  ...   \n",
            "\n",
            "   Reg_Date_31-03-2013  Reg_Date_31-03-2014  Reg_Date_31-05-2013  \\\n",
            "0                False                False                False   \n",
            "1                False                False                False   \n",
            "2                False                False                False   \n",
            "3                False                False                False   \n",
            "4                False                False                False   \n",
            "\n",
            "   Reg_Date_31-05-2014  Reg_Date_31-07-2013  Reg_Date_31-08-2012  \\\n",
            "0                False                False                False   \n",
            "1                False                False                False   \n",
            "2                False                False                False   \n",
            "3                False                False                False   \n",
            "4                False                False                False   \n",
            "\n",
            "   Reg_Date_31-08-2013  Reg_Date_31-10-2012  Reg_Date_31-12-2012  \\\n",
            "0                False                False                False   \n",
            "1                False                False                False   \n",
            "2                False                False                False   \n",
            "3                False                False                False   \n",
            "4                False                False                False   \n",
            "\n",
            "   Reg_Date_31-12-2013  \n",
            "0                False  \n",
            "1                False  \n",
            "2                False  \n",
            "3                False  \n",
            "4                False  \n",
            "\n",
            "[5 rows x 690 columns]\n"
          ]
        }
      ]
    },
    {
      "cell_type": "code",
      "source": [
        "# Check the first few rows of X_train and y_train to ensure they are correct\n",
        "print(X_train.head())\n",
        "print(y_train.head())\n"
      ],
      "metadata": {
        "colab": {
          "base_uri": "https://localhost:8080/"
        },
        "id": "vxavwBXLBRRS",
        "outputId": "a26a96a7-ba12-497a-da11-c9696dfdbc89"
      },
      "execution_count": 32,
      "outputs": [
        {
          "output_type": "stream",
          "name": "stdout",
          "text": [
            "   Birth_Year   Edu_Level Family_Status  Annual_Income  Kids_Count  \\\n",
            "0        1953  Graduation        Single        40464.0           0   \n",
            "1        1960  Graduation         Widow        47916.0           0   \n",
            "2        1972       Basic       Married        14188.0           0   \n",
            "3        1969  Graduation      Together        76653.0           0   \n",
            "4        1958  Graduation      Together        65196.0           0   \n",
            "\n",
            "   Teens_Count    Reg_Date  Last_Visit  Spent_Wines  Spent_Fruits  ...  \\\n",
            "0            1  11-01-2013          78          424            17  ...   \n",
            "1            1  22-11-2012          72          505             0  ...   \n",
            "2            0  28-02-2013          40            2             7  ...   \n",
            "3            0  16-08-2013          91          736            63  ...   \n",
            "4            2  25-07-2013          34          743            19  ...   \n",
            "\n",
            "   Store_Orders  Web_Visits  Campaign_1  Campaign_2  Campaign_3  Campaign_4  \\\n",
            "0             8           8           0           0           0           0   \n",
            "1             6           6           0           1           0           0   \n",
            "2             4           6           0           0           0           0   \n",
            "3            11           2           0           0           1           1   \n",
            "4            11           5           1           0           0           0   \n",
            "\n",
            "   Campaign_5  Complaint_Flag  Contact_Cost  Total_Revenue  \n",
            "0           0               0             3             11  \n",
            "1           0               0             3             11  \n",
            "2           0               0             3             11  \n",
            "3           0               0             3             11  \n",
            "4           0               0             3             11  \n",
            "\n",
            "[5 rows x 27 columns]\n",
            "0    0\n",
            "1    0\n",
            "2    0\n",
            "3    0\n",
            "4    0\n",
            "Name: Next_Purchase, dtype: int64\n"
          ]
        }
      ]
    },
    {
      "cell_type": "code",
      "source": [
        "# Preprocess the test data (same as training data)\n",
        "X_test = test_data.drop(columns=['User_Key'])\n",
        "\n",
        "# One-hot encoding for categorical features in test data\n",
        "X_test_encoded = pd.get_dummies(X_test, columns=['Edu_Level', 'Family_Status', 'Reg_Date'], drop_first=True)\n",
        "\n",
        "# Ensure the test data has the same features as the training data\n",
        "X_test_encoded = X_test_encoded.reindex(columns=X_train.columns, fill_value=0)\n",
        "\n",
        "# Display the first few rows of the preprocessed test data\n",
        "print(X_test_encoded.head())\n"
      ],
      "metadata": {
        "colab": {
          "base_uri": "https://localhost:8080/"
        },
        "id": "Re2T2-rUBc81",
        "outputId": "f7def5c8-bb00-4e6d-f9db-0a98967a1dca"
      },
      "execution_count": 34,
      "outputs": [
        {
          "output_type": "stream",
          "name": "stdout",
          "text": [
            "   Birth_Year  Edu_Level  Family_Status  Annual_Income  Kids_Count  \\\n",
            "0        1953          0              0        40464.0           0   \n",
            "1        1960          0              0        47916.0           0   \n",
            "2        1972          0              0        14188.0           0   \n",
            "3        1969          0              0        76653.0           0   \n",
            "4        1958          0              0        65196.0           0   \n",
            "\n",
            "   Teens_Count  Reg_Date  Last_Visit  Spent_Wines  Spent_Fruits  ...  \\\n",
            "0            1         0          78          424            17  ...   \n",
            "1            1         0          72          505             0  ...   \n",
            "2            0         0          40            2             7  ...   \n",
            "3            0         0          91          736            63  ...   \n",
            "4            2         0          34          743            19  ...   \n",
            "\n",
            "   Store_Orders  Web_Visits  Campaign_1  Campaign_2  Campaign_3  Campaign_4  \\\n",
            "0             8           8           0           0           0           0   \n",
            "1             6           6           0           1           0           0   \n",
            "2             4           6           0           0           0           0   \n",
            "3            11           2           0           0           1           1   \n",
            "4            11           5           1           0           0           0   \n",
            "\n",
            "   Campaign_5  Complaint_Flag  Contact_Cost  Total_Revenue  \n",
            "0           0               0             3             11  \n",
            "1           0               0             3             11  \n",
            "2           0               0             3             11  \n",
            "3           0               0             3             11  \n",
            "4           0               0             3             11  \n",
            "\n",
            "[5 rows x 27 columns]\n"
          ]
        }
      ]
    },
    {
      "cell_type": "code",
      "source": [
        "# Check the data types of all columns\n",
        "print(train_data_encoded.dtypes)\n",
        "\n",
        "# Check if there are any non-numeric columns remaining\n",
        "non_numeric_columns = train_data_encoded.select_dtypes(include=['object']).columns\n",
        "print(\"Non-numeric columns: \", non_numeric_columns)\n",
        "\n",
        "# If there are any, encode them with pd.get_dummies\n",
        "if len(non_numeric_columns) > 0:\n",
        "    train_data_encoded = pd.get_dummies(train_data_encoded, columns=non_numeric_columns, drop_first=True)\n",
        "\n",
        "# Check the data types again\n",
        "print(train_data_encoded.dtypes)\n"
      ],
      "metadata": {
        "colab": {
          "base_uri": "https://localhost:8080/"
        },
        "id": "_kliMX63BnOv",
        "outputId": "5433b2ae-1543-498c-923c-b43cd6ab28d2"
      },
      "execution_count": 36,
      "outputs": [
        {
          "output_type": "stream",
          "name": "stdout",
          "text": [
            "User_Key                 int64\n",
            "Birth_Year               int64\n",
            "Annual_Income          float64\n",
            "Kids_Count               int64\n",
            "Teens_Count              int64\n",
            "                        ...   \n",
            "Reg_Date_31-08-2012       bool\n",
            "Reg_Date_31-08-2013       bool\n",
            "Reg_Date_31-10-2012       bool\n",
            "Reg_Date_31-12-2012       bool\n",
            "Reg_Date_31-12-2013       bool\n",
            "Length: 690, dtype: object\n",
            "Non-numeric columns:  Index([], dtype='object')\n",
            "User_Key                 int64\n",
            "Birth_Year               int64\n",
            "Annual_Income          float64\n",
            "Kids_Count               int64\n",
            "Teens_Count              int64\n",
            "                        ...   \n",
            "Reg_Date_31-08-2012       bool\n",
            "Reg_Date_31-08-2013       bool\n",
            "Reg_Date_31-10-2012       bool\n",
            "Reg_Date_31-12-2012       bool\n",
            "Reg_Date_31-12-2013       bool\n",
            "Length: 690, dtype: object\n"
          ]
        }
      ]
    },
    {
      "cell_type": "code",
      "source": [
        "from sklearn.model_selection import train_test_split\n",
        "from sklearn.ensemble import RandomForestClassifier\n",
        "from sklearn.metrics import accuracy_score, classification_report\n",
        "\n",
        "# Split the data into features and target\n",
        "X = train_data_encoded.drop(columns=['Next_Purchase', 'User_Key'])  # Drop 'Next_Purchase' and 'User_Key'\n",
        "y = train_data_encoded['Next_Purchase']\n",
        "\n",
        "# Split the data into training and validation sets (80% training, 20% validation)\n",
        "X_train_split, X_valid_split, y_train_split, y_valid_split = train_test_split(X, y, test_size=0.2, random_state=42)\n",
        "\n",
        "# Initialize the Random Forest model\n",
        "rf_model = RandomForestClassifier(n_estimators=100, random_state=42)\n",
        "\n",
        "# Train the model\n",
        "rf_model.fit(X_train_split, y_train_split)\n",
        "\n",
        "# Make predictions on the validation set\n",
        "y_pred = rf_model.predict(X_valid_split)\n",
        "\n",
        "# Evaluate the model\n",
        "print(\"Accuracy on validation set: \", accuracy_score(y_valid_split, y_pred))\n",
        "print(\"Classification Report: \\n\", classification_report(y_valid_split, y_pred))\n"
      ],
      "metadata": {
        "colab": {
          "base_uri": "https://localhost:8080/"
        },
        "id": "L37uG84cBsEa",
        "outputId": "6c0ea15c-dd90-476f-b1ce-b1c5fb29da49"
      },
      "execution_count": 37,
      "outputs": [
        {
          "output_type": "stream",
          "name": "stdout",
          "text": [
            "Accuracy on validation set:  0.8737623762376238\n",
            "Classification Report: \n",
            "               precision    recall  f1-score   support\n",
            "\n",
            "           0       0.88      0.99      0.93       341\n",
            "           1       0.80      0.25      0.39        63\n",
            "\n",
            "    accuracy                           0.87       404\n",
            "   macro avg       0.84      0.62      0.66       404\n",
            "weighted avg       0.87      0.87      0.84       404\n",
            "\n"
          ]
        }
      ]
    },
    {
      "cell_type": "code",
      "source": [
        "pip install xgboost\n"
      ],
      "metadata": {
        "colab": {
          "base_uri": "https://localhost:8080/"
        },
        "id": "U2HW1wnWB18R",
        "outputId": "8f0c10df-2844-40b0-de0b-ec3f2bf60799"
      },
      "execution_count": 38,
      "outputs": [
        {
          "output_type": "stream",
          "name": "stdout",
          "text": [
            "Requirement already satisfied: xgboost in /usr/local/lib/python3.11/dist-packages (2.1.3)\n",
            "Requirement already satisfied: numpy in /usr/local/lib/python3.11/dist-packages (from xgboost) (1.26.4)\n",
            "Requirement already satisfied: nvidia-nccl-cu12 in /usr/local/lib/python3.11/dist-packages (from xgboost) (2.21.5)\n",
            "Requirement already satisfied: scipy in /usr/local/lib/python3.11/dist-packages (from xgboost) (1.13.1)\n"
          ]
        }
      ]
    },
    {
      "cell_type": "code",
      "source": [
        "# Reapply one-hot encoding to the categorical columns\n",
        "train_data_encoded = pd.get_dummies(train_data, columns=['Edu_Level', 'Family_Status', 'Reg_Date'], drop_first=True)\n",
        "\n",
        "# Ensure that all columns are numeric\n",
        "print(train_data_encoded.dtypes)\n",
        "\n",
        "# Separate features and target variable\n",
        "X = train_data_encoded.drop('Next_Purchase', axis=1)\n",
        "y = train_data_encoded['Next_Purchase']\n",
        "\n",
        "# Split the data into training and validation sets\n",
        "from sklearn.model_selection import train_test_split\n",
        "X_train_split, X_val_split, y_train_split, y_val_split = train_test_split(X, y, test_size=0.2, random_state=42)\n",
        "\n",
        "# Initialize XGBoost classifier\n",
        "import xgboost as xgb\n",
        "xgb_model = xgb.XGBClassifier(n_estimators=100, learning_rate=0.1, max_depth=6, random_state=42)\n",
        "\n",
        "# Train the model\n",
        "xgb_model.fit(X_train_split, y_train_split)\n",
        "\n",
        "# Predict on the validation set\n",
        "y_pred = xgb_model.predict(X_val_split)\n",
        "\n",
        "# Evaluate the model\n",
        "from sklearn.metrics import accuracy_score, classification_report\n",
        "accuracy = accuracy_score(y_val_split, y_pred)\n",
        "print(f'Accuracy on validation set: {accuracy}')\n",
        "print('Classification Report:')\n",
        "print(classification_report(y_val_split, y_pred))\n"
      ],
      "metadata": {
        "colab": {
          "base_uri": "https://localhost:8080/"
        },
        "id": "XecjyZ4_B-Rv",
        "outputId": "3a10414e-9556-4772-d235-e1830e710835"
      },
      "execution_count": 40,
      "outputs": [
        {
          "output_type": "stream",
          "name": "stdout",
          "text": [
            "User_Key                 int64\n",
            "Birth_Year               int64\n",
            "Annual_Income          float64\n",
            "Kids_Count               int64\n",
            "Teens_Count              int64\n",
            "                        ...   \n",
            "Reg_Date_31-08-2012       bool\n",
            "Reg_Date_31-08-2013       bool\n",
            "Reg_Date_31-10-2012       bool\n",
            "Reg_Date_31-12-2012       bool\n",
            "Reg_Date_31-12-2013       bool\n",
            "Length: 690, dtype: object\n",
            "Accuracy on validation set: 0.8712871287128713\n",
            "Classification Report:\n",
            "              precision    recall  f1-score   support\n",
            "\n",
            "           0       0.89      0.96      0.93       341\n",
            "           1       0.66      0.37      0.47        63\n",
            "\n",
            "    accuracy                           0.87       404\n",
            "   macro avg       0.77      0.66      0.70       404\n",
            "weighted avg       0.86      0.87      0.86       404\n",
            "\n"
          ]
        }
      ]
    },
    {
      "cell_type": "code",
      "source": [
        "# Assuming you have a test dataset similar to the train dataset\n",
        "# Apply the same preprocessing steps to the test dataset\n",
        "\n",
        "# One-hot encode the categorical columns in the test data\n",
        "test_data_encoded = pd.get_dummies(test_data, columns=['Edu_Level', 'Family_Status', 'Reg_Date'], drop_first=True)\n",
        "\n",
        "# Ensure the test data has the same columns as the train data (in case of missing columns)\n",
        "test_data_encoded = test_data_encoded.reindex(columns=X.columns, fill_value=0)\n",
        "\n",
        "# Predict on the test set\n",
        "y_test_pred = xgb_model.predict(test_data_encoded)\n",
        "\n",
        "# If you have the actual test labels, you can evaluate the accuracy and classification report:\n",
        "# Assuming y_test is the true label for the test set\n",
        "# from sklearn.metrics import accuracy_score, classification_report\n",
        "# test_accuracy = accuracy_score(y_test, y_test_pred)\n",
        "# print(f'Accuracy on test set: {test_accuracy}')\n",
        "# print('Classification Report for Test Set:')\n",
        "# print(classification_report(y_test, y_test_pred))\n",
        "\n",
        "# If you don't have test labels, just output predictions\n",
        "print(\"Predictions on test set:\")\n",
        "print(y_test_pred)\n"
      ],
      "metadata": {
        "colab": {
          "base_uri": "https://localhost:8080/"
        },
        "id": "lkBykWwTCF-4",
        "outputId": "c286cc19-1352-4f82-9a5f-1f82c96a9018"
      },
      "execution_count": 41,
      "outputs": [
        {
          "output_type": "stream",
          "name": "stdout",
          "text": [
            "Predictions on test set:\n",
            "[0 0 0 ... 1 1 0]\n"
          ]
        }
      ]
    },
    {
      "cell_type": "code",
      "source": [
        "from sklearn.tree import DecisionTreeClassifier\n",
        "from sklearn.model_selection import GridSearchCV\n",
        "from sklearn.metrics import accuracy_score, classification_report\n",
        "\n",
        "# Initialize the Decision Tree Classifier\n",
        "dt_model = DecisionTreeClassifier(random_state=42)\n",
        "\n",
        "# Hyperparameter tuning using GridSearchCV\n",
        "param_grid = {\n",
        "    'max_depth': [5, 10, 15, 20, None],  # Try different depths to avoid overfitting\n",
        "    'min_samples_split': [2, 5, 10],    # Controls how many samples are needed to split an internal node\n",
        "    'min_samples_leaf': [1, 2, 5, 10]   # Minimum samples required to be at a leaf node\n",
        "}\n",
        "\n",
        "# Set up GridSearchCV for hyperparameter tuning\n",
        "grid_search = GridSearchCV(estimator=dt_model, param_grid=param_grid, cv=5, scoring='accuracy', verbose=1)\n",
        "\n",
        "# Fit the model with grid search to find the best hyperparameters\n",
        "grid_search.fit(X_train_split, y_train_split)\n",
        "\n",
        "# Get the best model from grid search\n",
        "best_dt_model = grid_search.best_estimator_\n"
      ],
      "metadata": {
        "colab": {
          "base_uri": "https://localhost:8080/"
        },
        "id": "XAMe2zk6CQcX",
        "outputId": "c39023d9-0bec-4ac6-bc85-9e4181887764"
      },
      "execution_count": 42,
      "outputs": [
        {
          "output_type": "stream",
          "name": "stdout",
          "text": [
            "Fitting 5 folds for each of 60 candidates, totalling 300 fits\n"
          ]
        }
      ]
    },
    {
      "cell_type": "code",
      "source": [
        "# Make predictions on the validation set\n",
        "y_val_pred = best_dt_model.predict(X_val_split)\n",
        "\n",
        "# Evaluate the model on the validation set\n",
        "val_accuracy = accuracy_score(y_val_split, y_val_pred)\n",
        "print(f'Accuracy on validation set: {val_accuracy}')\n",
        "print('Classification Report:')\n",
        "print(classification_report(y_val_split, y_val_pred))\n"
      ],
      "metadata": {
        "colab": {
          "base_uri": "https://localhost:8080/"
        },
        "id": "KX6JOluyCTWq",
        "outputId": "88ea2120-2559-474f-937c-f94a1f907964"
      },
      "execution_count": 43,
      "outputs": [
        {
          "output_type": "stream",
          "name": "stdout",
          "text": [
            "Accuracy on validation set: 0.8663366336633663\n",
            "Classification Report:\n",
            "              precision    recall  f1-score   support\n",
            "\n",
            "           0       0.87      0.98      0.93       341\n",
            "           1       0.71      0.24      0.36        63\n",
            "\n",
            "    accuracy                           0.87       404\n",
            "   macro avg       0.79      0.61      0.64       404\n",
            "weighted avg       0.85      0.87      0.84       404\n",
            "\n"
          ]
        }
      ]
    },
    {
      "cell_type": "code",
      "source": [
        "# If test data is available, predict on the test set\n",
        "test_data_encoded = pd.get_dummies(test_data, columns=['Edu_Level', 'Family_Status', 'Reg_Date'], drop_first=True)\n",
        "\n",
        "# Ensure the test data has the same columns as the train data\n",
        "test_data_encoded = test_data_encoded.reindex(columns=X.columns, fill_value=0)\n",
        "\n",
        "# Predict using the best decision tree model\n",
        "y_test_pred = best_dt_model.predict(test_data_encoded)\n",
        "\n",
        "# If you have the actual test labels, evaluate the performance:\n",
        "# test_accuracy = accuracy_score(y_test, y_test_pred)\n",
        "# print(f'Accuracy on test set: {test_accuracy}')\n",
        "# print('Classification Report for Test Set:')\n",
        "# print(classification_report(y_test, y_test_pred))\n",
        "\n",
        "# If you don't have test labels, just output the predictions:\n",
        "print(\"Predictions on test set:\")\n",
        "print(y_test_pred)\n"
      ],
      "metadata": {
        "colab": {
          "base_uri": "https://localhost:8080/"
        },
        "id": "b0lj2ZYHCgsf",
        "outputId": "a4b7dd0e-45a1-4006-a931-68ee05637b2f"
      },
      "execution_count": 44,
      "outputs": [
        {
          "output_type": "stream",
          "name": "stdout",
          "text": [
            "Predictions on test set:\n",
            "[0 0 0 ... 1 0 0]\n"
          ]
        }
      ]
    },
    {
      "cell_type": "code",
      "source": [
        "pip install fpdf"
      ],
      "metadata": {
        "colab": {
          "base_uri": "https://localhost:8080/"
        },
        "id": "xjKh6n3DC7aQ",
        "outputId": "34871806-f1e5-4f42-c29e-1af57dbbd824"
      },
      "execution_count": 46,
      "outputs": [
        {
          "output_type": "stream",
          "name": "stdout",
          "text": [
            "Collecting fpdf\n",
            "  Downloading fpdf-1.7.2.tar.gz (39 kB)\n",
            "  Preparing metadata (setup.py) ... \u001b[?25l\u001b[?25hdone\n",
            "Building wheels for collected packages: fpdf\n",
            "  Building wheel for fpdf (setup.py) ... \u001b[?25l\u001b[?25hdone\n",
            "  Created wheel for fpdf: filename=fpdf-1.7.2-py2.py3-none-any.whl size=40704 sha256=ebbe1e72ad003ef32856c99ce32b22fa87fbd38943b2aaf847e5d2b3e2aa5015\n",
            "  Stored in directory: /root/.cache/pip/wheels/65/4f/66/bbda9866da446a72e206d6484cd97381cbc7859a7068541c36\n",
            "Successfully built fpdf\n",
            "Installing collected packages: fpdf\n",
            "Successfully installed fpdf-1.7.2\n"
          ]
        }
      ]
    },
    {
      "cell_type": "code",
      "source": [
        "from fpdf import FPDF\n",
        "\n",
        "# Create PDF report\n",
        "pdf = FPDF()\n",
        "pdf.add_page()\n",
        "pdf.set_font(\"Arial\", size=12)\n",
        "\n",
        "# Title\n",
        "pdf.cell(200, 10, txt=\"Classification Report and Insights\", ln=True, align=\"C\")\n",
        "\n",
        "# Methodology\n",
        "pdf.ln(10)\n",
        "pdf.cell(200, 10, txt=\"Methodology:\", ln=True)\n",
        "pdf.multi_cell(0, 10, txt=\"Data Segmentation, Preprocessing, Feature Encoding, and Model Training were conducted with Decision Tree and Random Forest classifiers.\")\n",
        "\n",
        "# Performance Metrics\n",
        "pdf.ln(10)\n",
        "pdf.cell(200, 10, txt=\"Performance Metrics:\", ln=True)\n",
        "pdf.multi_cell(0, 10, txt=f\"Accuracy: {val_accuracy}\\nF1-score: {classification_report(y_val_split, y_val_pred)}\")\n",
        "\n",
        "# Business Insights\n",
        "pdf.ln(10)\n",
        "pdf.cell(200, 10, txt=\"Business Insights:\", ln=True)\n",
        "pdf.multi_cell(0, 10, txt=\"The feature importance plot shows that annual income and family status play crucial roles in customer classification.\")\n",
        "\n",
        "# Output PDF\n",
        "pdf.output(\"final_report.pdf\")\n"
      ],
      "metadata": {
        "colab": {
          "base_uri": "https://localhost:8080/",
          "height": 36
        },
        "id": "_OvbuJoZC4OJ",
        "outputId": "7c93d894-fd88-476a-c7aa-f1f47564182a"
      },
      "execution_count": 47,
      "outputs": [
        {
          "output_type": "execute_result",
          "data": {
            "text/plain": [
              "''"
            ],
            "application/vnd.google.colaboratory.intrinsic+json": {
              "type": "string"
            }
          },
          "metadata": {},
          "execution_count": 47
        }
      ]
    },
    {
      "cell_type": "code",
      "source": [
        "from sklearn.metrics import roc_curve, auc\n",
        "import matplotlib.pyplot as plt\n",
        "# Ensure that X_test and y_test are defined (they should come from your train-test split)\n",
        "# Example:\n",
        "X_train, X_test, y_train, y_test = train_test_split(X, y, test_size=0.2, random_state=42)\n",
        "\n",
        "# Compute ROC curve\n",
        "fpr, tpr, thresholds = roc_curve(y_test, best_dt_model.predict_proba(X_test)[:, 1])\n",
        "roc_auc = auc(fpr, tpr)\n",
        "\n",
        "# Plot the ROC curve\n",
        "plt.figure(figsize=(8, 6))\n",
        "plt.plot(fpr, tpr, color='darkorange', lw=2, label=f'ROC curve (area = {roc_auc:.2f})')\n",
        "plt.plot([0, 1], [0, 1], color='navy', lw=2, linestyle='--')\n",
        "plt.xlabel('False Positive Rate')\n",
        "plt.ylabel('True Positive Rate')\n",
        "plt.title('Receiver Operating Characteristic (ROC) Curve')\n",
        "plt.legend(loc='lower right')\n",
        "plt.savefig('roc_curve.png')  # Save the plot as a .png file\n",
        "plt.show()\n"
      ],
      "metadata": {
        "colab": {
          "base_uri": "https://localhost:8080/",
          "height": 564
        },
        "id": "xj5XePfODFtM",
        "outputId": "7538d0d5-e4d1-466b-cc66-fe252703e0ab"
      },
      "execution_count": 51,
      "outputs": [
        {
          "output_type": "display_data",
          "data": {
            "text/plain": [
              "<Figure size 800x600 with 1 Axes>"
            ],
            "image/png": "[encoded data removed]"
          },
          "metadata": {}
        }
      ]
    },
    {
      "cell_type": "code",
      "source": [
        "import pandas as pd\n",
        "\n",
        "# Assuming y_test_pred is the predicted response variable\n",
        "predictions = pd.DataFrame(y_test_pred, columns=['Predictions'])\n",
        "\n",
        "# Save predictions to a CSV file\n",
        "predictions.to_csv('predictions.csv', index=False)\n"
      ],
      "metadata": {
        "id": "puMYn7tODaJ8"
      },
      "execution_count": 52,
      "outputs": []
    },
    {
      "cell_type": "code",
      "source": [
        "from sklearn.metrics import confusion_matrix, classification_report\n",
        "\n",
        "# Confusion Matrix\n",
        "cm = confusion_matrix(y_test, y_test_pred)\n",
        "\n",
        "# Classification Report (including F1-score)\n",
        "class_report = classification_report(y_test, y_test_pred)\n",
        "\n",
        "# Print classification report\n",
        "print(\"Classification Report:\")\n",
        "print(class_report)\n",
        "\n",
        "# Visualize Confusion Matrix\n",
        "import seaborn as sns\n",
        "import matplotlib.pyplot as plt\n",
        "\n",
        "plt.figure(figsize=(6, 5))\n",
        "sns.heatmap(cm, annot=True, fmt='d', cmap='Blues', xticklabels=['Class 0', 'Class 1'], yticklabels=['Class 0', 'Class 1'])\n",
        "plt.title('Confusion Matrix')\n",
        "plt.ylabel('Actual')\n",
        "plt.xlabel('Predicted')\n",
        "plt.savefig('confusion_matrix.png')  # Save the plot as a .png file\n",
        "plt.show()\n"
      ],
      "metadata": {
        "colab": {
          "base_uri": "https://localhost:8080/",
          "height": 375
        },
        "id": "TAqXJKqRDdQz",
        "outputId": "02b253ae-a53c-4ab6-8ca5-00318fd018e2"
      },
      "execution_count": 53,
      "outputs": [
        {
          "output_type": "error",
          "ename": "ValueError",
          "evalue": "Found input variables with inconsistent numbers of samples: [404, 2016]",
          "traceback": [
            "\u001b[0;31m---------------------------------------------------------------------------\u001b[0m",
            "\u001b[0;31mValueError\u001b[0m                                Traceback (most recent call last)",
            "\u001b[0;32m<ipython-input-53-83596a6e2734>\u001b[0m in \u001b[0;36m<cell line: 0>\u001b[0;34m()\u001b[0m\n\u001b[1;32m      2\u001b[0m \u001b[0;34m\u001b[0m\u001b[0m\n\u001b[1;32m      3\u001b[0m \u001b[0;31m# Confusion Matrix\u001b[0m\u001b[0;34m\u001b[0m\u001b[0;34m\u001b[0m\u001b[0m\n\u001b[0;32m----> 4\u001b[0;31m \u001b[0mcm\u001b[0m \u001b[0;34m=\u001b[0m \u001b[0mconfusion_matrix\u001b[0m\u001b[0;34m(\u001b[0m\u001b[0my_test\u001b[0m\u001b[0;34m,\u001b[0m \u001b[0my_test_pred\u001b[0m\u001b[0;34m)\u001b[0m\u001b[0;34m\u001b[0m\u001b[0;34m\u001b[0m\u001b[0m\n\u001b[0m\u001b[1;32m      5\u001b[0m \u001b[0;34m\u001b[0m\u001b[0m\n\u001b[1;32m      6\u001b[0m \u001b[0;31m# Classification Report (including F1-score)\u001b[0m\u001b[0;34m\u001b[0m\u001b[0;34m\u001b[0m\u001b[0m\n",
            "\u001b[0;32m/usr/local/lib/python3.11/dist-packages/sklearn/utils/_param_validation.py\u001b[0m in \u001b[0;36mwrapper\u001b[0;34m(*args, **kwargs)\u001b[0m\n\u001b[1;32m    214\u001b[0m                     )\n\u001b[1;32m    215\u001b[0m                 ):\n\u001b[0;32m--> 216\u001b[0;31m                     \u001b[0;32mreturn\u001b[0m \u001b[0mfunc\u001b[0m\u001b[0;34m(\u001b[0m\u001b[0;34m*\u001b[0m\u001b[0margs\u001b[0m\u001b[0;34m,\u001b[0m \u001b[0;34m**\u001b[0m\u001b[0mkwargs\u001b[0m\u001b[0;34m)\u001b[0m\u001b[0;34m\u001b[0m\u001b[0;34m\u001b[0m\u001b[0m\n\u001b[0m\u001b[1;32m    217\u001b[0m             \u001b[0;32mexcept\u001b[0m \u001b[0mInvalidParameterError\u001b[0m \u001b[0;32mas\u001b[0m \u001b[0me\u001b[0m\u001b[0;34m:\u001b[0m\u001b[0;34m\u001b[0m\u001b[0;34m\u001b[0m\u001b[0m\n\u001b[1;32m    218\u001b[0m                 \u001b[0;31m# When the function is just a wrapper around an estimator, we allow\u001b[0m\u001b[0;34m\u001b[0m\u001b[0;34m\u001b[0m\u001b[0m\n",
            "\u001b[0;32m/usr/local/lib/python3.11/dist-packages/sklearn/metrics/_classification.py\u001b[0m in \u001b[0;36mconfusion_matrix\u001b[0;34m(y_true, y_pred, labels, sample_weight, normalize)\u001b[0m\n\u001b[1;32m    338\u001b[0m     \"\"\"\n\u001b[1;32m    339\u001b[0m     \u001b[0my_true\u001b[0m\u001b[0;34m,\u001b[0m \u001b[0my_pred\u001b[0m \u001b[0;34m=\u001b[0m \u001b[0mattach_unique\u001b[0m\u001b[0;34m(\u001b[0m\u001b[0my_true\u001b[0m\u001b[0;34m,\u001b[0m \u001b[0my_pred\u001b[0m\u001b[0;34m)\u001b[0m\u001b[0;34m\u001b[0m\u001b[0;34m\u001b[0m\u001b[0m\n\u001b[0;32m--> 340\u001b[0;31m     \u001b[0my_type\u001b[0m\u001b[0;34m,\u001b[0m \u001b[0my_true\u001b[0m\u001b[0;34m,\u001b[0m \u001b[0my_pred\u001b[0m \u001b[0;34m=\u001b[0m \u001b[0m_check_targets\u001b[0m\u001b[0;34m(\u001b[0m\u001b[0my_true\u001b[0m\u001b[0;34m,\u001b[0m \u001b[0my_pred\u001b[0m\u001b[0;34m)\u001b[0m\u001b[0;34m\u001b[0m\u001b[0;34m\u001b[0m\u001b[0m\n\u001b[0m\u001b[1;32m    341\u001b[0m     \u001b[0;32mif\u001b[0m \u001b[0my_type\u001b[0m \u001b[0;32mnot\u001b[0m \u001b[0;32min\u001b[0m \u001b[0;34m(\u001b[0m\u001b[0;34m\"binary\"\u001b[0m\u001b[0;34m,\u001b[0m \u001b[0;34m\"multiclass\"\u001b[0m\u001b[0;34m)\u001b[0m\u001b[0;34m:\u001b[0m\u001b[0;34m\u001b[0m\u001b[0;34m\u001b[0m\u001b[0m\n\u001b[1;32m    342\u001b[0m         \u001b[0;32mraise\u001b[0m \u001b[0mValueError\u001b[0m\u001b[0;34m(\u001b[0m\u001b[0;34m\"%s is not supported\"\u001b[0m \u001b[0;34m%\u001b[0m \u001b[0my_type\u001b[0m\u001b[0;34m)\u001b[0m\u001b[0;34m\u001b[0m\u001b[0;34m\u001b[0m\u001b[0m\n",
            "\u001b[0;32m/usr/local/lib/python3.11/dist-packages/sklearn/metrics/_classification.py\u001b[0m in \u001b[0;36m_check_targets\u001b[0;34m(y_true, y_pred)\u001b[0m\n\u001b[1;32m     96\u001b[0m     \"\"\"\n\u001b[1;32m     97\u001b[0m     \u001b[0mxp\u001b[0m\u001b[0;34m,\u001b[0m \u001b[0m_\u001b[0m \u001b[0;34m=\u001b[0m \u001b[0mget_namespace\u001b[0m\u001b[0;34m(\u001b[0m\u001b[0my_true\u001b[0m\u001b[0;34m,\u001b[0m \u001b[0my_pred\u001b[0m\u001b[0;34m)\u001b[0m\u001b[0;34m\u001b[0m\u001b[0;34m\u001b[0m\u001b[0m\n\u001b[0;32m---> 98\u001b[0;31m     \u001b[0mcheck_consistent_length\u001b[0m\u001b[0;34m(\u001b[0m\u001b[0my_true\u001b[0m\u001b[0;34m,\u001b[0m \u001b[0my_pred\u001b[0m\u001b[0;34m)\u001b[0m\u001b[0;34m\u001b[0m\u001b[0;34m\u001b[0m\u001b[0m\n\u001b[0m\u001b[1;32m     99\u001b[0m     \u001b[0mtype_true\u001b[0m \u001b[0;34m=\u001b[0m \u001b[0mtype_of_target\u001b[0m\u001b[0;34m(\u001b[0m\u001b[0my_true\u001b[0m\u001b[0;34m,\u001b[0m \u001b[0minput_name\u001b[0m\u001b[0;34m=\u001b[0m\u001b[0;34m\"y_true\"\u001b[0m\u001b[0;34m)\u001b[0m\u001b[0;34m\u001b[0m\u001b[0;34m\u001b[0m\u001b[0m\n\u001b[1;32m    100\u001b[0m     \u001b[0mtype_pred\u001b[0m \u001b[0;34m=\u001b[0m \u001b[0mtype_of_target\u001b[0m\u001b[0;34m(\u001b[0m\u001b[0my_pred\u001b[0m\u001b[0;34m,\u001b[0m \u001b[0minput_name\u001b[0m\u001b[0;34m=\u001b[0m\u001b[0;34m\"y_pred\"\u001b[0m\u001b[0;34m)\u001b[0m\u001b[0;34m\u001b[0m\u001b[0;34m\u001b[0m\u001b[0m\n",
            "\u001b[0;32m/usr/local/lib/python3.11/dist-packages/sklearn/utils/validation.py\u001b[0m in \u001b[0;36mcheck_consistent_length\u001b[0;34m(*arrays)\u001b[0m\n\u001b[1;32m    473\u001b[0m     \u001b[0muniques\u001b[0m \u001b[0;34m=\u001b[0m \u001b[0mnp\u001b[0m\u001b[0;34m.\u001b[0m\u001b[0munique\u001b[0m\u001b[0;34m(\u001b[0m\u001b[0mlengths\u001b[0m\u001b[0;34m)\u001b[0m\u001b[0;34m\u001b[0m\u001b[0;34m\u001b[0m\u001b[0m\n\u001b[1;32m    474\u001b[0m     \u001b[0;32mif\u001b[0m \u001b[0mlen\u001b[0m\u001b[0;34m(\u001b[0m\u001b[0muniques\u001b[0m\u001b[0;34m)\u001b[0m \u001b[0;34m>\u001b[0m \u001b[0;36m1\u001b[0m\u001b[0;34m:\u001b[0m\u001b[0;34m\u001b[0m\u001b[0;34m\u001b[0m\u001b[0m\n\u001b[0;32m--> 475\u001b[0;31m         raise ValueError(\n\u001b[0m\u001b[1;32m    476\u001b[0m             \u001b[0;34m\"Found input variables with inconsistent numbers of samples: %r\"\u001b[0m\u001b[0;34m\u001b[0m\u001b[0;34m\u001b[0m\u001b[0m\n\u001b[1;32m    477\u001b[0m             \u001b[0;34m%\u001b[0m \u001b[0;34m[\u001b[0m\u001b[0mint\u001b[0m\u001b[0;34m(\u001b[0m\u001b[0ml\u001b[0m\u001b[0;34m)\u001b[0m \u001b[0;32mfor\u001b[0m \u001b[0ml\u001b[0m \u001b[0;32min\u001b[0m \u001b[0mlengths\u001b[0m\u001b[0;34m]\u001b[0m\u001b[0;34m\u001b[0m\u001b[0;34m\u001b[0m\u001b[0m\n",
            "\u001b[0;31mValueError\u001b[0m: Found input variables with inconsistent numbers of samples: [404, 2016]"
          ]
        }
      ]
    },
    {
      "cell_type": "code",
      "source": [
        "# Plot feature importances (for tree-based models like RandomForest or DecisionTree)\n",
        "feature_importance = best_dt_model.feature_importances_\n",
        "import seaborn as sns\n",
        "# Create a DataFrame with feature names and their importance\n",
        "feature_names = X.columns\n",
        "feature_df = pd.DataFrame({'Feature': feature_names, 'Importance': feature_importance})\n",
        "\n",
        "# Sort the features by importance\n",
        "feature_df = feature_df.sort_values(by='Importance', ascending=False)\n",
        "\n",
        "# Plot the feature importances\n",
        "plt.figure(figsize=(10, 6))\n",
        "sns.barplot(x='Importance', y='Feature', data=feature_df)\n",
        "plt.title('Feature Importance')\n",
        "plt.savefig('feature_importance.png')  # Save the plot as a .png file\n",
        "plt.show()\n"
      ],
      "metadata": {
        "colab": {
          "base_uri": "https://localhost:8080/",
          "height": 564
        },
        "id": "ZJq_bRllDkLO",
        "outputId": "6b5d20a6-5988-4709-da96-2c182e968e47"
      },
      "execution_count": 55,
      "outputs": [
        {
          "output_type": "display_data",
          "data": {
            "text/plain": [
              "<Figure size 1000x600 with 1 Axes>"
            ],
            "image/png": "[encoded data removed]"
          },
          "metadata": {}
        }
      ]
    },
    {
      "cell_type": "code",
      "source": [
        "from sklearn.ensemble import RandomForestClassifier\n",
        "from sklearn.metrics import accuracy_score, confusion_matrix, classification_report\n",
        "\n",
        "# Initialize and train the Random Forest Classifier\n",
        "rf_model = RandomForestClassifier(n_estimators=100, random_state=42)\n",
        "rf_model.fit(X_train, y_train)\n",
        "\n",
        "# Make predictions on the test set\n",
        "y_pred = rf_model.predict(X_test)\n",
        "\n",
        "# Calculate accuracy and other metrics\n",
        "accuracy = accuracy_score(y_test, y_pred)\n",
        "print(f\"Accuracy on Test Set: {accuracy}\")\n",
        "print(\"\\nClassification Report:\\n\", classification_report(y_test, y_pred))\n",
        "\n",
        "# Confusion Matrix\n",
        "cm = confusion_matrix(y_test, y_pred)\n"
      ],
      "metadata": {
        "colab": {
          "base_uri": "https://localhost:8080/"
        },
        "id": "A1PaPK30D_cr",
        "outputId": "4a922372-cd02-442b-d264-f3ac2099f759"
      },
      "execution_count": 56,
      "outputs": [
        {
          "output_type": "stream",
          "name": "stdout",
          "text": [
            "Accuracy on Test Set: 0.8712871287128713\n",
            "\n",
            "Classification Report:\n",
            "               precision    recall  f1-score   support\n",
            "\n",
            "           0       0.87      0.99      0.93       341\n",
            "           1       0.82      0.22      0.35        63\n",
            "\n",
            "    accuracy                           0.87       404\n",
            "   macro avg       0.85      0.61      0.64       404\n",
            "weighted avg       0.87      0.87      0.84       404\n",
            "\n"
          ]
        }
      ]
    },
    {
      "cell_type": "code",
      "source": [
        "import seaborn as sns\n",
        "import matplotlib.pyplot as plt\n",
        "from sklearn.metrics import confusion_matrix\n",
        "\n",
        "# Assuming y_test and y_pred are already defined\n",
        "cm = confusion_matrix(y_test, y_pred)\n",
        "\n",
        "# Plot Confusion Matrix\n",
        "plt.figure(figsize=(6, 5))\n",
        "sns.heatmap(cm, annot=True, fmt='d', cmap='Blues', xticklabels=['Class 0', 'Class 1'], yticklabels=['Class 0', 'Class 1'])\n",
        "plt.title('Confusion Matrix')\n",
        "plt.ylabel('Actual')\n",
        "plt.xlabel('Predicted')\n",
        "plt.show()\n"
      ],
      "metadata": {
        "colab": {
          "base_uri": "https://localhost:8080/",
          "height": 487
        },
        "id": "9z_XeRjrE9p0",
        "outputId": "08f07073-de4b-4f64-f80f-934c19b17032"
      },
      "execution_count": 57,
      "outputs": [
        {
          "output_type": "display_data",
          "data": {
            "text/plain": [
              "<Figure size 600x500 with 2 Axes>"
            ],
            "image/png": "[encoded data removed]"
          },
          "metadata": {}
        }
      ]
    },
    {
      "cell_type": "code",
      "source": [
        "# Load the test dataset\n",
        "test_data = pd.read_csv('test.csv')\n",
        "\n",
        "# Ensure the same preprocessing is done on the test dataset\n",
        "test_data_encoded = pd.get_dummies(test_data, columns=['Edu_Level', 'Family_Status', 'Reg_Date'], drop_first=True)\n",
        "\n",
        "# Align the columns of the test set with the training set (if necessary)\n",
        "test_data_encoded = test_data_encoded.reindex(columns=X_train_split.columns, fill_value=0)\n",
        "\n",
        "# Check the transformed test data\n",
        "print(test_data_encoded.head())\n"
      ],
      "metadata": {
        "colab": {
          "base_uri": "https://localhost:8080/"
        },
        "id": "-8bPntjwFMW8",
        "outputId": "57dcab58-02da-4631-ec21-7c5338b746fa"
      },
      "execution_count": 59,
      "outputs": [
        {
          "output_type": "stream",
          "name": "stdout",
          "text": [
            "   User_Key  Birth_Year  Annual_Income  Kids_Count  Teens_Count  Last_Visit  \\\n",
            "0      9370        1945        65846.0           0            0          68   \n",
            "1      4682        1958        51876.0           0            0          88   \n",
            "2      4530        1948        78427.0           0            0          36   \n",
            "3      8212        1971        39791.0           0            1          89   \n",
            "4      6409        1967        57136.0           0            0          18   \n",
            "\n",
            "   Spent_Wines  Spent_Fruits  Spent_Meat  Spent_Fish  ...  \\\n",
            "0          562            81         276          80  ...   \n",
            "1           99            27         102          28  ...   \n",
            "2          972            19         595         180  ...   \n",
            "3           85            15          27          13  ...   \n",
            "4          267           140         599          34  ...   \n",
            "\n",
            "   Reg_Date_31-03-2013  Reg_Date_31-03-2014  Reg_Date_31-05-2013  \\\n",
            "0                False                    0                False   \n",
            "1                False                    0                False   \n",
            "2                False                    0                False   \n",
            "3                False                    0                False   \n",
            "4                False                    0                False   \n",
            "\n",
            "   Reg_Date_31-05-2014  Reg_Date_31-07-2013  Reg_Date_31-08-2012  \\\n",
            "0                    0                False                False   \n",
            "1                    0                False                False   \n",
            "2                    0                False                False   \n",
            "3                    0                False                False   \n",
            "4                    0                False                False   \n",
            "\n",
            "   Reg_Date_31-08-2013  Reg_Date_31-10-2012  Reg_Date_31-12-2012  \\\n",
            "0                False                    0                    0   \n",
            "1                False                    0                    0   \n",
            "2                False                    0                    0   \n",
            "3                False                    0                    0   \n",
            "4                False                    0                    0   \n",
            "\n",
            "   Reg_Date_31-12-2013  \n",
            "0                    0  \n",
            "1                    0  \n",
            "2                    0  \n",
            "3                    0  \n",
            "4                    0  \n",
            "\n",
            "[5 rows x 689 columns]\n"
          ]
        }
      ]
    },
    {
      "cell_type": "code",
      "source": [
        "# Make predictions on the test dataset\n",
        "test_predictions = rf_model.predict(test_data_encoded)\n",
        "\n",
        "# Check the predictions\n",
        "print(test_predictions)\n"
      ],
      "metadata": {
        "colab": {
          "base_uri": "https://localhost:8080/"
        },
        "id": "xt96LQMZFQhP",
        "outputId": "80e14dbd-540e-46ae-8af0-ae0451efbd08"
      },
      "execution_count": 60,
      "outputs": [
        {
          "output_type": "stream",
          "name": "stdout",
          "text": [
            "[0 0 0 0 0 1 0 0 0 0 0 0 0 0 0 0 0 0 0 0 0 0 1 0 0 0 0 0 0 0 0 0 0 0 0 0 0\n",
            " 0 0 0 0 0 0 0 0 0 0 0 0 0 0 0 0 0 0 0 0 0 0 0 0 0 0 0 0 0 0 0 0 0 0 0 0 0\n",
            " 0 0 0 0 0 0 0 0 0 1 0 0 0 0 0 0 0 0 0 0 0 0 0 0 0 0 0 0 0 0 1 0 0 0 0 0 0\n",
            " 0 0 0 0 0 0 0 1 0 0 0 0 0 0 0 0 0 0 0 0 0 0 0 1 0 0 0 0 0 0 0 0 0 0 0 1 0\n",
            " 0 0 0 0 0 0 0 0 0 0 0 0 0 0 1 0 0 0 0 0 0 0 1 0 0 0 0 0 0 0 0 0 0 0 0 0 0\n",
            " 0 0 0 0 0 0 0 1 0 0 0 0 0 0 0 0 0 0 0 0 0 0 0 0 0 0 0 0 0 0 0 0 0 0 0 0 0\n",
            " 0 0]\n"
          ]
        }
      ]
    },
    {
      "cell_type": "code",
      "source": [
        "# Save the predictions to a CSV file\n",
        "test_predictions_df = pd.DataFrame(test_predictions, columns=['Predicted_Label'])\n",
        "\n",
        "# You can add an ID column from the test data if necessary\n",
        "test_predictions_df['User_Key'] = test_data['User_Key']\n",
        "\n",
        "# Save to a CSV file\n",
        "test_predictions_df.to_csv('test_predictions.csv', index=False)\n",
        "\n",
        "print(\"Predictions saved to 'test_predictions.csv'\")\n"
      ],
      "metadata": {
        "colab": {
          "base_uri": "https://localhost:8080/"
        },
        "id": "e65R9rKQFZMw",
        "outputId": "5fea52a8-12fb-4473-f336-7d9019234913"
      },
      "execution_count": 61,
      "outputs": [
        {
          "output_type": "stream",
          "name": "stdout",
          "text": [
            "Predictions saved to 'test_predictions.csv'\n"
          ]
        }
      ]
    }
  ]
}